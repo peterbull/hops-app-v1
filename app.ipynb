{
 "cells": [
  {
   "cell_type": "code",
   "execution_count": 1,
   "metadata": {},
   "outputs": [],
   "source": [
    "from flask import Flask\n",
    "import ghhops_server as hs\n",
    "import rhino3dm"
   ]
  },
  {
   "cell_type": "code",
   "execution_count": 2,
   "metadata": {},
   "outputs": [],
   "source": [
    "# register hops app as middleware\n",
    "app = Flask(__name__)\n",
    "hops: hs.HopsFlask = hs.Hops(app)"
   ]
  },
  {
   "cell_type": "code",
   "execution_count": 3,
   "metadata": {},
   "outputs": [],
   "source": [
    "# flask app can be used for other stuff drectly\n",
    "@app.route(\"/help\")\n",
    "def help():\n",
    "    return \"Welcome to Grashopper Hops for CPython!\""
   ]
  },
  {
   "cell_type": "code",
   "execution_count": 4,
   "metadata": {},
   "outputs": [],
   "source": [
    "@hops.component(\n",
    "    \"/binmult\",\n",
    "    inputs=[hs.HopsNumber(\"A\"), hs.HopsNumber(\"B\")],\n",
    "    outputs=[hs.HopsNumber(\"Multiply\")],\n",
    ")\n",
    "def BinaryMultiply(a: float, b: float):\n",
    "    return a * b"
   ]
  },
  {
   "cell_type": "code",
   "execution_count": 5,
   "metadata": {},
   "outputs": [
    {
     "name": "stderr",
     "output_type": "stream",
     "text": [
      "[DEBUG] matplotlib data path: /home/pete-00/mambaforge/envs/grass/lib/python3.10/site-packages/matplotlib/mpl-data\n",
      "[DEBUG] CONFIGDIR=/home/pete-00/.config/matplotlib\n",
      "[DEBUG] interactive is False\n",
      "[DEBUG] platform is linux\n",
      "[DEBUG] CACHEDIR=/home/pete-00/.cache/matplotlib\n",
      "[DEBUG] Using fontManager instance from /home/pete-00/.cache/matplotlib/fontlist-v330.json\n",
      "[INFO] Note: NumExpr detected 16 cores but \"NUMEXPR_MAX_THREADS\" not set, so enforcing safe limit of 8.\n",
      "[INFO] NumExpr defaulting to 8 threads.\n"
     ]
    }
   ],
   "source": [
    "from fastai.tabular.all import *"
   ]
  },
  {
   "cell_type": "code",
   "execution_count": 6,
   "metadata": {},
   "outputs": [
    {
     "data": {
      "text/plain": [
       "tensor([[1.],\n",
       "        [2.],\n",
       "        [3.]])"
      ]
     },
     "execution_count": 6,
     "metadata": {},
     "output_type": "execute_result"
    }
   ],
   "source": [
    "torch.tensor([1.,2,3]).unsqueeze(dim=1)\n"
   ]
  },
  {
   "cell_type": "code",
   "execution_count": 7,
   "metadata": {},
   "outputs": [],
   "source": [
    "@hops.component(\n",
    "    \"/predict\",\n",
    "    name=\"Predict\",\n",
    "    description=\"Predict the performance with given solar chimney design parameters\",\n",
    "    inputs=[\n",
    "        hs.HopsNumber(\"SolarChimneyHeight\", \"test\")\n",
    "    ],\n",
    "    outputs=[\n",
    "        hs.HopsNumber(\"FlowRate\", \"flow_rate\"),\n",
    "    ],\n",
    ")\n",
    "def predict(test):\n",
    "    for i in range(test):\n",
    "        res += i\n",
    "    return res.tolist()"
   ]
  },
  {
   "cell_type": "code",
   "execution_count": 8,
   "metadata": {},
   "outputs": [],
   "source": [
    "@hops.component(\n",
    "    \"/tensor\",\n",
    "    name=\"tensor\",\n",
    "    description=\"test passing converting lists to tensors and back\",\n",
    "    inputs=[\n",
    "        hs.HopsNumber(\"Input List\", \"L\", \"input_list\", access=hs.HopsParamAccess.LIST)\n",
    "    ],\n",
    "    outputs=[\n",
    "        hs.HopsNumber(\"Output List\", \"L\", \"output_list\", access=hs.HopsParamAccess.TREE)\n",
    "    ],\n",
    ")\n",
    "def tens_test(input_list):\n",
    "    tens = tensor(input_list)\n",
    "    tens = tens.unsqueeze(dim=1)\n",
    "    output_list = tens\n",
    "    return output_list"
   ]
  },
  {
   "cell_type": "code",
   "execution_count": 9,
   "metadata": {},
   "outputs": [
    {
     "name": "stdout",
     "output_type": "stream",
     "text": [
      " * Serving Flask app '__main__'\n",
      " * Debug mode: off\n"
     ]
    },
    {
     "name": "stderr",
     "output_type": "stream",
     "text": [
      "[INFO] \u001b[31m\u001b[1mWARNING: This is a development server. Do not use it in a production deployment. Use a production WSGI server instead.\u001b[0m\n",
      " * Running on http://127.0.0.1:5000\n",
      "[INFO] \u001b[33mPress CTRL+C to quit\u001b[0m\n",
      "[INFO] 127.0.0.1 - - [15/Jun/2023 05:16:43] \"GET /tensor HTTP/1.1\" 200 -\n",
      "[INFO] 127.0.0.1 - - [15/Jun/2023 05:16:43] \"GET /tensor HTTP/1.1\" 200 -\n",
      "[INFO] 127.0.0.1 - - [15/Jun/2023 05:16:46] \"GET /tensor HTTP/1.1\" 200 -\n",
      "[INFO] 127.0.0.1 - - [15/Jun/2023 05:16:46] \"GET /tensor HTTP/1.1\" 200 -\n"
     ]
    }
   ],
   "source": [
    "if __name__ == '__main__':\n",
    "    app.run()"
   ]
  },
  {
   "cell_type": "code",
   "execution_count": null,
   "metadata": {},
   "outputs": [],
   "source": [
    "print(\"test\")"
   ]
  },
  {
   "cell_type": "code",
   "execution_count": null,
   "metadata": {},
   "outputs": [],
   "source": [
    "hs.HopsParamAccess."
   ]
  }
 ],
 "metadata": {
  "kernelspec": {
   "display_name": "base",
   "language": "python",
   "name": "python3"
  },
  "language_info": {
   "codemirror_mode": {
    "name": "ipython",
    "version": 3
   },
   "file_extension": ".py",
   "mimetype": "text/x-python",
   "name": "python",
   "nbconvert_exporter": "python",
   "pygments_lexer": "ipython3",
   "version": "3.10.10"
  },
  "orig_nbformat": 4
 },
 "nbformat": 4,
 "nbformat_minor": 2
}
