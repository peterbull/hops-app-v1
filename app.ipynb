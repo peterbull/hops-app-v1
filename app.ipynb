{
 "cells": [
  {
   "cell_type": "code",
   "execution_count": null,
   "metadata": {},
   "outputs": [],
   "source": [
    "from flask import Flask\n",
    "import ghhops_server as hs\n",
    "import rhino3dm"
   ]
  },
  {
   "cell_type": "code",
   "execution_count": null,
   "metadata": {},
   "outputs": [],
   "source": [
    "# register hops app as middleware\n",
    "app = Flask(__name__)\n",
    "hops: hs.HopsFlask = hs.Hops(app)"
   ]
  },
  {
   "cell_type": "code",
   "execution_count": null,
   "metadata": {},
   "outputs": [],
   "source": [
    "# flask app can be used for other stuff drectly\n",
    "@app.route(\"/help\")\n",
    "def help():\n",
    "    return \"Welcome to Grashopper Hops for CPython!\""
   ]
  },
  {
   "cell_type": "code",
   "execution_count": null,
   "metadata": {},
   "outputs": [],
   "source": [
    "@hops.component(\n",
    "    \"/binmult\",\n",
    "    inputs=[hs.HopsNumber(\"A\"), hs.HopsNumber(\"B\")],\n",
    "    outputs=[hs.HopsNumber(\"Multiply\")],\n",
    ")\n",
    "def BinaryMultiply(a: float, b: float):\n",
    "    return a * b"
   ]
  },
  {
   "cell_type": "code",
   "execution_count": null,
   "metadata": {},
   "outputs": [],
   "source": [
    "from fastai.tabular.all import *"
   ]
  },
  {
   "cell_type": "code",
   "execution_count": null,
   "metadata": {},
   "outputs": [],
   "source": [
    "@hops.component(\n",
    "    \"/predict\",\n",
    "    name=\"Predict\",\n",
    "    description=\"Predict the performance with given solar chimney design parameters\",\n",
    "    inputs=[\n",
    "        hs.HopsNumber(\"SolarChimneyHeight\", \"test\")\n",
    "    ],\n",
    "    outputs=[\n",
    "        hs.HopsNumber(\"FlowRate\", \"flow_rate\"),\n",
    "    ],\n",
    ")\n",
    "def predict(test):\n",
    "    for i in range(test):\n",
    "        res += i\n",
    "    return res.tolist()"
   ]
  },
  {
   "cell_type": "code",
   "execution_count": null,
   "metadata": {},
   "outputs": [],
   "source": [
    "@hops.component(\n",
    "    \"/tensor\",\n",
    "    name=\"tensor\",\n",
    "    description=\"test passing converting lists to tensors and back\",\n",
    "    inputs=[\n",
    "        hs.HopsNumber(\"Input List\", \"L\", \"input_list\", access=hs.HopsParamAccess.LIST)\n",
    "    ],\n",
    "    outputs=[\n",
    "        hs.HopsNumber(\"Output List\", \"L\", \"output_list\", access=hs.HopsParamAccess.LIST)\n",
    "    ],\n",
    ")\n",
    "def tens_test(input_list):\n",
    "    tens = tensor(input_list)\n",
    "    tens = tens.unsqueeze(dim=1)\n",
    "    output_list = tens\n",
    "    return output_list"
   ]
  },
  {
   "cell_type": "code",
   "execution_count": null,
   "metadata": {},
   "outputs": [],
   "source": [
    "@hops.component(\n",
    "    \"/tensor_tree\",\n",
    "    name=\"tensor\",\n",
    "    description=\"test passing converting lists to tensors and back\",\n",
    "    inputs=[\n",
    "        hs.HopsNumber(\"Input List\", \"L\", \"input_list\", access=hs.HopsParamAccess.TREE)\n",
    "    ],\n",
    "    outputs=[\n",
    "        hs.HopsNumber(\"Output List\", \"L\", \"output_list\", access=hs.HopsParamAccess.TREE)\n",
    "    ],\n",
    ")\n",
    "def tens_test(input_tree):\n",
    "    tens = tensor(input_tree)\n",
    "    output_list = tens\n",
    "    return output_list"
   ]
  },
  {
   "cell_type": "code",
   "execution_count": null,
   "metadata": {},
   "outputs": [],
   "source": [
    "import numpy as np\n",
    "\n",
    "# Create a list with mixed types\n",
    "mixed_list = [1, 'hello', [2.5, 3.7], {'key': 'value'}]\n",
    "\n",
    "# Convert the list to numpy.ndarray of type numpy.object_\n",
    "ndarray_object = np.array(mixed_list, dtype=np.object_)\n",
    "\n",
    "# Print the ndarray\n",
    "print(ndarray_object)\n"
   ]
  },
  {
   "cell_type": "code",
   "execution_count": null,
   "metadata": {},
   "outputs": [],
   "source": [
    "if __name__ == '__main__':\n",
    "    app.run()"
   ]
  },
  {
   "cell_type": "code",
   "execution_count": null,
   "metadata": {},
   "outputs": [],
   "source": [
    "print(\"test\")"
   ]
  },
  {
   "cell_type": "code",
   "execution_count": null,
   "metadata": {},
   "outputs": [],
   "source": [
    "hs.HopsParamAccess."
   ]
  }
 ],
 "metadata": {
  "kernelspec": {
   "display_name": "base",
   "language": "python",
   "name": "python3"
  },
  "language_info": {
   "codemirror_mode": {
    "name": "ipython",
    "version": 3
   },
   "file_extension": ".py",
   "mimetype": "text/x-python",
   "name": "python",
   "nbconvert_exporter": "python",
   "pygments_lexer": "ipython3",
   "version": "3.10.10"
  },
  "orig_nbformat": 4
 },
 "nbformat": 4,
 "nbformat_minor": 2
}
