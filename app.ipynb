{
 "cells": [
  {
   "cell_type": "code",
   "execution_count": 1,
   "metadata": {},
   "outputs": [],
   "source": [
    "from flask import Flask\n",
    "import ghhops_server as hs\n",
    "import rhino3dm"
   ]
  },
  {
   "cell_type": "code",
   "execution_count": 2,
   "metadata": {},
   "outputs": [],
   "source": [
    "# register hops app as middleware\n",
    "app = Flask(__name__)\n",
    "hops: hs.HopsFlask = hs.Hops(app)"
   ]
  },
  {
   "cell_type": "code",
   "execution_count": 3,
   "metadata": {},
   "outputs": [],
   "source": [
    "# flask app can be used for other stuff drectly\n",
    "@app.route(\"/help\")\n",
    "def help():\n",
    "    return \"Welcome to Grashopper Hops for CPython!\""
   ]
  },
  {
   "cell_type": "code",
   "execution_count": 4,
   "metadata": {},
   "outputs": [],
   "source": [
    "@hops.component(\n",
    "    \"/binmult\",\n",
    "    inputs=[hs.HopsNumber(\"A\"), hs.HopsNumber(\"B\")],\n",
    "    outputs=[hs.HopsNumber(\"Multiply\")],\n",
    ")\n",
    "def BinaryMultiply(a: float, b: float):\n",
    "    return a * b"
   ]
  },
  {
   "cell_type": "code",
   "execution_count": 5,
   "metadata": {},
   "outputs": [
    {
     "name": "stderr",
     "output_type": "stream",
     "text": [
      "[DEBUG] matplotlib data path: /home/pete-00/mambaforge/envs/grass/lib/python3.10/site-packages/matplotlib/mpl-data\n",
      "[DEBUG] CONFIGDIR=/home/pete-00/.config/matplotlib\n",
      "[DEBUG] interactive is False\n",
      "[DEBUG] platform is linux\n",
      "[DEBUG] CACHEDIR=/home/pete-00/.cache/matplotlib\n",
      "[DEBUG] Using fontManager instance from /home/pete-00/.cache/matplotlib/fontlist-v330.json\n",
      "[INFO] Note: NumExpr detected 16 cores but \"NUMEXPR_MAX_THREADS\" not set, so enforcing safe limit of 8.\n",
      "[INFO] NumExpr defaulting to 8 threads.\n"
     ]
    }
   ],
   "source": [
    "from fastai.tabular.all import *"
   ]
  },
  {
   "cell_type": "code",
   "execution_count": 6,
   "metadata": {},
   "outputs": [
    {
     "data": {
      "text/plain": [
       "tensor([1., 2., 3.])"
      ]
     },
     "execution_count": 6,
     "metadata": {},
     "output_type": "execute_result"
    }
   ],
   "source": [
    "torch.tensor([1.,2,3])\n"
   ]
  },
  {
   "cell_type": "code",
   "execution_count": 7,
   "metadata": {},
   "outputs": [],
   "source": [
    "@hops.component(\n",
    "    \"/predict\",\n",
    "    name=\"Predict\",\n",
    "    description=\"Predict the performance with given solar chimney design parameters\",\n",
    "    inputs=[\n",
    "        hs.HopsNumber(\"SolarChimneyHeight\", \"test\")\n",
    "    ],\n",
    "    outputs=[\n",
    "        hs.HopsNumber(\"FlowRate\", \"flow_rate\"),\n",
    "    ],\n",
    ")\n",
    "def predict(test):\n",
    "    res = tensor(test)\n",
    "    return res.tolist()"
   ]
  },
  {
   "cell_type": "code",
   "execution_count": null,
   "metadata": {},
   "outputs": [],
   "source": []
  },
  {
   "cell_type": "code",
   "execution_count": 8,
   "metadata": {},
   "outputs": [
    {
     "name": "stdout",
     "output_type": "stream",
     "text": [
      " * Serving Flask app '__main__'\n",
      " * Debug mode: off\n"
     ]
    },
    {
     "name": "stderr",
     "output_type": "stream",
     "text": [
      "[INFO] \u001b[31m\u001b[1mWARNING: This is a development server. Do not use it in a production deployment. Use a production WSGI server instead.\u001b[0m\n",
      " * Running on http://127.0.0.1:5000\n",
      "[INFO] \u001b[33mPress CTRL+C to quit\u001b[0m\n",
      "[INFO] Solving using legacy API: <HopsComponent /predict [SolarChimneyHeight -> Predict -> FlowRate] >\n",
      "[INFO] 127.0.0.1 - - [14/Jun/2023 20:02:06] \"POST /solve HTTP/1.1\" 200 -\n"
     ]
    },
    {
     "name": "stdout",
     "output_type": "stream",
     "text": [
      "{'InnerTree': {'{0}': [{'data': '5.0', 'type': 'System.Double'}]},\n",
      " 'ParamName': 'SolarChimneyHeight'}\n"
     ]
    },
    {
     "name": "stderr",
     "output_type": "stream",
     "text": [
      "[INFO] Solving using legacy API: <HopsComponent /predict [SolarChimneyHeight -> Predict -> FlowRate] >\n",
      "[INFO] 127.0.0.1 - - [14/Jun/2023 20:02:06] \"POST /solve HTTP/1.1\" 200 -\n"
     ]
    },
    {
     "name": "stdout",
     "output_type": "stream",
     "text": [
      "{'InnerTree': {'{0}': [{'data': '6.0', 'type': 'System.Double'}]},\n",
      " 'ParamName': 'SolarChimneyHeight'}\n"
     ]
    },
    {
     "name": "stderr",
     "output_type": "stream",
     "text": [
      "[INFO] Solving using legacy API: <HopsComponent /predict [SolarChimneyHeight -> Predict -> FlowRate] >\n",
      "[INFO] 127.0.0.1 - - [14/Jun/2023 20:02:06] \"POST /solve HTTP/1.1\" 200 -\n"
     ]
    },
    {
     "name": "stdout",
     "output_type": "stream",
     "text": [
      "{'InnerTree': {'{0}': [{'data': '7.0', 'type': 'System.Double'}]},\n",
      " 'ParamName': 'SolarChimneyHeight'}\n"
     ]
    },
    {
     "name": "stderr",
     "output_type": "stream",
     "text": [
      "[INFO] Solving using legacy API: <HopsComponent /predict [SolarChimneyHeight -> Predict -> FlowRate] >\n",
      "[INFO] 127.0.0.1 - - [14/Jun/2023 20:03:28] \"POST /solve HTTP/1.1\" 200 -\n"
     ]
    },
    {
     "name": "stdout",
     "output_type": "stream",
     "text": [
      "{'InnerTree': {'{0}': [{'data': '3.7416573867739409',\n",
      "                        'type': 'System.Double'}]},\n",
      " 'ParamName': 'SolarChimneyHeight'}\n"
     ]
    },
    {
     "name": "stderr",
     "output_type": "stream",
     "text": [
      "[INFO] Solving using legacy API: <HopsComponent /predict [SolarChimneyHeight -> Predict -> FlowRate] >\n",
      "[INFO] 127.0.0.1 - - [14/Jun/2023 20:04:36] \"\u001b[35m\u001b[1mPOST /solve HTTP/1.1\u001b[0m\" 500 -\n",
      "[ERROR] Error on request:\n",
      "Traceback (most recent call last):\n",
      "  File \"/home/pete-00/mambaforge/envs/grass/lib/python3.10/site-packages/werkzeug/serving.py\", line 364, in run_wsgi\n",
      "    execute(self.server.app)\n",
      "  File \"/home/pete-00/mambaforge/envs/grass/lib/python3.10/site-packages/werkzeug/serving.py\", line 325, in execute\n",
      "    application_iter = app(environ, start_response)\n",
      "  File \"/home/pete-00/mambaforge/envs/grass/lib/python3.10/site-packages/flask/app.py\", line 2213, in __call__\n",
      "    return self.wsgi_app(environ, start_response)\n",
      "  File \"/home/pete-00/mambaforge/envs/grass/lib/python3.10/site-packages/ghhops_server/middlewares/hopsflask.py\", line 42, in __call__\n",
      "    response = self.handle_POST(request)\n",
      "  File \"/home/pete-00/mambaforge/envs/grass/lib/python3.10/site-packages/ghhops_server/base.py\", line 75, in handle_POST\n",
      "    res, results = self.solve(uri=uri, payload=data)\n",
      "  File \"/home/pete-00/mambaforge/envs/grass/lib/python3.10/site-packages/ghhops_server/base.py\", line 126, in solve\n",
      "    return self._process_solve_request(comp, payload)\n",
      "  File \"/home/pete-00/mambaforge/envs/grass/lib/python3.10/site-packages/ghhops_server/base.py\", line 192, in _process_solve_request\n",
      "    res, inputs = self._prepare_inputs(comp, payload)\n",
      "  File \"/home/pete-00/mambaforge/envs/grass/lib/python3.10/site-packages/ghhops_server/base.py\", line 241, in _prepare_inputs\n",
      "    value = in_param.from_input(in_param_data)\n",
      "  File \"/home/pete-00/mambaforge/envs/grass/lib/python3.10/site-packages/ghhops_server/params.py\", line 210, in from_input\n",
      "    for param_value_item in input_data[\"InnerTree\"][\"{0}\"]:\n",
      "KeyError: '{0}'\n"
     ]
    },
    {
     "name": "stdout",
     "output_type": "stream",
     "text": [
      "{'InnerTree': {}, 'ParamName': 'SolarChimneyHeight'}\n"
     ]
    },
    {
     "name": "stderr",
     "output_type": "stream",
     "text": [
      "[INFO] Solving using legacy API: <HopsComponent /predict [SolarChimneyHeight -> Predict -> FlowRate] >\n",
      "[INFO] 127.0.0.1 - - [14/Jun/2023 20:05:35] \"POST /solve HTTP/1.1\" 200 -\n",
      "[INFO] Solving using legacy API: <HopsComponent /predict [SolarChimneyHeight -> Predict -> FlowRate] >\n",
      "[INFO] 127.0.0.1 - - [14/Jun/2023 20:05:35] \"POST /solve HTTP/1.1\" 200 -\n"
     ]
    },
    {
     "name": "stdout",
     "output_type": "stream",
     "text": [
      "{'InnerTree': {'{0}': [{'data': '3.0', 'type': 'System.Double'}]},\n",
      " 'ParamName': 'SolarChimneyHeight'}\n",
      "{'InnerTree': {'{0}': [{'data': '2.0', 'type': 'System.Double'}]},\n",
      " 'ParamName': 'SolarChimneyHeight'}\n"
     ]
    }
   ],
   "source": [
    "if __name__ == '__main__':\n",
    "    app.run()"
   ]
  },
  {
   "cell_type": "code",
   "execution_count": null,
   "metadata": {},
   "outputs": [],
   "source": []
  },
  {
   "cell_type": "code",
   "execution_count": null,
   "metadata": {},
   "outputs": [],
   "source": []
  }
 ],
 "metadata": {
  "kernelspec": {
   "display_name": "base",
   "language": "python",
   "name": "python3"
  },
  "language_info": {
   "codemirror_mode": {
    "name": "ipython",
    "version": 3
   },
   "file_extension": ".py",
   "mimetype": "text/x-python",
   "name": "python",
   "nbconvert_exporter": "python",
   "pygments_lexer": "ipython3",
   "version": "3.10.10"
  },
  "orig_nbformat": 4
 },
 "nbformat": 4,
 "nbformat_minor": 2
}
